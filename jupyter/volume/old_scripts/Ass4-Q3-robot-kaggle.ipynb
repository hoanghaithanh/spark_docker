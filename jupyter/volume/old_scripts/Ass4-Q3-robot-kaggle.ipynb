{
 "cells": [
  {
   "cell_type": "code",
   "execution_count": 3,
   "id": "a5745506-a62d-42bd-bb65-64e77ed7e68e",
   "metadata": {},
   "outputs": [],
   "source": [
    "train_path = \"/mnt/data_file/robot/Q3_images/images\"\n",
    "processed_path = \"/mnt/data_file/robot/Q3_images/processed_data\""
   ]
  },
  {
   "cell_type": "code",
   "execution_count": 4,
   "id": "d74bac54-23f5-4538-96a0-ce73fff8e758",
   "metadata": {},
   "outputs": [],
   "source": [
    "import os\n",
    "import shutil\n",
    "from random import choices"
   ]
  },
  {
   "cell_type": "code",
   "execution_count": 5,
   "id": "63c500db-dcc6-4a97-aa73-655cd92c2261",
   "metadata": {},
   "outputs": [],
   "source": [
    "options = [True, False]\n",
    "weights = [0.8, 0.2]\n",
    "train_dog_path = os.path.join(processed_path, \"training\", \"dog\")\n",
    "train_cat_path = os.path.join(processed_path, \"training\", \"cat\")\n",
    "test_dog_path = os.path.join(processed_path, \"testing\", \"dog\")\n",
    "test_cat_path = os.path.join(processed_path, \"testing\", \"cat\")\n",
    "for image in os.listdir(train_path):\n",
    "    train = choices(options, weights)[0]\n",
    "    if not image[0].isupper():\n",
    "        if train:\n",
    "            shutil.copy(os.path.join(train_path, image), os.path.join(train_dog_path, image))\n",
    "        else:\n",
    "            shutil.copy(os.path.join(train_path, image), os.path.join(test_dog_path, image))\n",
    "    else:\n",
    "        if train:\n",
    "            shutil.copy(os.path.join(train_path, image), os.path.join(train_cat_path, image))\n",
    "        else:\n",
    "            shutil.copy(os.path.join(train_path, image), os.path.join(test_cat_path, image))\n",
    "        "
   ]
  },
  {
   "cell_type": "code",
   "execution_count": 6,
   "id": "528dcb6f-e1f3-4ca9-b738-b33e01e27bf0",
   "metadata": {},
   "outputs": [],
   "source": [
    "def train():\n",
    "    import json\n",
    "    import tempfile\n",
    "    from tensorflow.keras import layers\n",
    "    from tensorflow.keras import models\n",
    "    from tensorflow.keras import optimizers\n",
    "    from tensorflow.keras.callbacks import ModelCheckpoint\n",
    "    import tensorflow as tf\n",
    "    strategy = tf.distribute.experimental.MultiWorkerMirroredStrategy()\n",
    "    with strategy.scope():\n",
    "\n",
    "    \n",
    "        checkpoint_path = \"/mnt/data_file/ass4.model/robot/\"\n",
    "        random_path = tempfile.TemporaryDirectory()\n",
    "    \n",
    "        chief_callback = ModelCheckpoint(checkpoint_path, \n",
    "                                         monitor='acc', \n",
    "                                         save_best_only=True,\n",
    "                                         mode='max')\n",
    "        dummy_callback = ModelCheckpoint(random_path.name, monitor='acc', save_best_only=True)\n",
    "    \n",
    "    \n",
    "        processed_path = \"/mnt/data_file/robot/Q3_images/processed_data\"\n",
    "        \n",
    "        model = models.Sequential()\n",
    "        model.add(layers.Conv2D(32, (3, 3), activation='relu',\n",
    "                                input_shape=(150, 150, 3)))\n",
    "        model.add(layers.MaxPooling2D((2, 2)))\n",
    "        model.add(layers.Conv2D(64, (3, 3), activation='relu'))\n",
    "        model.add(layers.MaxPooling2D((2, 2)))\n",
    "        model.add(layers.Conv2D(128, (3, 3), activation='relu'))\n",
    "        model.add(layers.MaxPooling2D((2, 2)))\n",
    "        model.add(layers.Conv2D(128, (3, 3), activation='relu'))\n",
    "        model.add(layers.MaxPooling2D((2, 2)))\n",
    "        model.add(layers.Flatten())\n",
    "        model.add(layers.Dense(512, activation='relu'))\n",
    "        model.add(layers.Dense(1, activation='sigmoid'))\n",
    "        \n",
    "        model.compile(loss='binary_crossentropy',\n",
    "                      optimizer=optimizers.RMSprop(learning_rate=1e-4),\n",
    "                      metrics=['acc'])\n",
    "    \n",
    "        from tensorflow.keras.preprocessing.image import ImageDataGenerator\n",
    "    \n",
    "        train_dir = os.path.join(processed_path, \"training\")\n",
    "        validation_dir = os.path.join(processed_path, \"testing\")\n",
    "        \n",
    "        # All images will be rescaled by 1./255\n",
    "        train_datagen = ImageDataGenerator(rescale=1./255)\n",
    "        test_datagen = ImageDataGenerator(rescale=1./255)\n",
    "        train_generator = train_datagen.flow_from_directory(\n",
    "                # This is the target directory\n",
    "                train_dir,\n",
    "                # All images will be resized to 150x150\n",
    "                target_size=(150, 150),\n",
    "                batch_size=64,\n",
    "                # Since we use binary_crossentropy loss, we need binary labels\n",
    "                class_mode='binary')\n",
    "        validation_generator = test_datagen.flow_from_directory(\n",
    "                validation_dir,\n",
    "                target_size=(150, 150),\n",
    "                batch_size=64,\n",
    "                class_mode='binary')\n",
    "        if 'TF_CONFIG' in os.environ:    \n",
    "            tf_config = json.loads(os.environ['TF_CONFIG'])    \n",
    "            node_index = tf_config['task']['index']    \n",
    "            is_chief = node_index == 0    \n",
    "            print(f\"Node Index: {node_index}, Is Chief: {is_chief}\")\n",
    "        callback = [chief_callback if is_chief else dummy_callback]\n",
    "\n",
    "\n",
    "        model.fit(\n",
    "          train_generator,\n",
    "        #cuz there are 2000 sapmples=100*20(batch-size(20images))\n",
    "          #steps_per_epoch=100,\n",
    "          epochs=5,\n",
    "          validation_data=validation_generator,\n",
    "          callbacks=callback)"
   ]
  },
  {
   "cell_type": "code",
   "execution_count": 7,
   "id": "13723747-b181-400d-ab3e-c322358cc100",
   "metadata": {},
   "outputs": [
    {
     "name": "stderr",
     "output_type": "stream",
     "text": [
      "Setting default log level to \"WARN\".\n",
      "To adjust logging level use sc.setLogLevel(newLevel). For SparkR, use setLogLevel(newLevel).\n",
      "23/11/30 05:24:13 WARN NativeCodeLoader: Unable to load native-hadoop library for your platform... using builtin-java classes where applicable\n",
      "23/11/30 05:24:14 WARN Utils: Service 'SparkUI' could not bind on port 4040. Attempting port 4041.\n",
      "Doing CPU training...\n",
      "Will run with 2 Spark tasks.\n",
      "Distributed training in progress...\n",
      "View Spark executor stderr logs to inspect training...\n",
      "23/11/30 05:24:15 WARN DAGScheduler: Barrier stage in job 0 requires 2 slots, but only 0 are available. Will retry up to 40 more times\n",
      "23/11/30 05:24:30 WARN DAGScheduler: Barrier stage in job 0 requires 2 slots, but only 0 are available. Will retry up to 39 more times\n",
      "23/11/30 05:24:45 WARN DAGScheduler: Barrier stage in job 0 requires 2 slots, but only 0 are available. Will retry up to 38 more times\n",
      "23/11/30 05:25:00 WARN DAGScheduler: Barrier stage in job 0 requires 2 slots, but only 0 are available. Will retry up to 37 more times\n",
      "Training with 2 slots is complete!                                              \n"
     ]
    }
   ],
   "source": [
    "from pyspark.sql import SparkSession\n",
    "\n",
    "spark = SparkSession.builder \\\n",
    "                    .master(\"spark://spark:7077\") \\\n",
    "                    .appName(\"Ass4-Q3-robot\") \\\n",
    "                    .config(\"spark.executor.memory\", \"8g\") \\\n",
    "                    .getOrCreate()\n",
    "\n",
    "from spark_tensorflow_distributor import MirroredStrategyRunner\n",
    " \n",
    "BATCH_SIZE_PER_REPLICA = 64\n",
    "os.environ[\"CUDA_VISIBLE_DEVICES\"] = \"1\"\n",
    "runner = MirroredStrategyRunner(num_slots=2, local_mode=False, use_gpu=False, use_custom_strategy=True)\n",
    "runner.run(train)"
   ]
  },
  {
   "cell_type": "code",
   "execution_count": 8,
   "id": "05670f2b-9871-4f53-a5a3-43ac293467bd",
   "metadata": {},
   "outputs": [
    {
     "name": "stderr",
     "output_type": "stream",
     "text": [
      "2023-11-30 05:47:29.136654: I tensorflow/core/util/port.cc:110] oneDNN custom operations are on. You may see slightly different numerical results due to floating-point round-off errors from different computation orders. To turn them off, set the environment variable `TF_ENABLE_ONEDNN_OPTS=0`.\n",
      "2023-11-30 05:47:29.177916: I tensorflow/tsl/cuda/cudart_stub.cc:28] Could not find cuda drivers on your machine, GPU will not be used.\n",
      "2023-11-30 05:47:29.618037: I tensorflow/tsl/cuda/cudart_stub.cc:28] Could not find cuda drivers on your machine, GPU will not be used.\n",
      "2023-11-30 05:47:29.620086: I tensorflow/core/platform/cpu_feature_guard.cc:182] This TensorFlow binary is optimized to use available CPU instructions in performance-critical operations.\n",
      "To enable the following instructions: AVX2 AVX_VNNI FMA, in other operations, rebuild TensorFlow with the appropriate compiler flags.\n",
      "2023-11-30 05:47:31.288646: W tensorflow/compiler/tf2tensorrt/utils/py_utils.cc:38] TF-TRT Warning: Could not find TensorRT\n"
     ]
    }
   ],
   "source": [
    "import tensorflow as tf\n",
    "checkpoint_path = \"/mnt/data_file/ass4.model/robot/\"\n",
    "model = tf.keras.models.load_model(checkpoint_path)"
   ]
  },
  {
   "cell_type": "code",
   "execution_count": 20,
   "id": "1c911024-239e-4043-8a73-35b586a51df3",
   "metadata": {},
   "outputs": [],
   "source": [
    "training_dir = \"/mnt/data_file/robot/Q3_images/processed_data/training\"\n",
    "testing_dir = \"/mnt/data_file/robot/Q3_images/processed_data/testing\"\n",
    "validation_dir = \"/mnt/data_file/kaggle/train_data/processed_data/training\""
   ]
  },
  {
   "cell_type": "code",
   "execution_count": 15,
   "id": "bf75d631-186d-4210-8552-62442e302ac8",
   "metadata": {},
   "outputs": [],
   "source": [
    "from tensorflow.keras.preprocessing.image import ImageDataGenerator\n",
    "def report(folder):\n",
    "    image_generator = ImageDataGenerator(rescale=1./255).flow_from_directory(\n",
    "                folder,\n",
    "                target_size=(150, 150),\n",
    "                shuffle=False,\n",
    "                batch_size=1,\n",
    "                class_mode='binary')\n",
    "    model.evaluate(image_generator)"
   ]
  },
  {
   "cell_type": "code",
   "execution_count": 16,
   "id": "9477050f-a490-4f8a-bc16-70028e0915dc",
   "metadata": {},
   "outputs": [
    {
     "name": "stdout",
     "output_type": "stream",
     "text": [
      "Found 5887 images belonging to 2 classes.\n",
      "5887/5887 [==============================] - 73s 12ms/step - loss: 0.5052 - acc: 0.7588\n"
     ]
    }
   ],
   "source": [
    "report(training_dir)"
   ]
  },
  {
   "cell_type": "code",
   "execution_count": 17,
   "id": "90ceab2e-7593-4c45-a8c8-3c858408e587",
   "metadata": {},
   "outputs": [
    {
     "name": "stdout",
     "output_type": "stream",
     "text": [
      "Found 1503 images belonging to 2 classes.\n",
      "1503/1503 [==============================] - 20s 13ms/step - loss: 0.5082 - acc: 0.7705\n"
     ]
    }
   ],
   "source": [
    "report(testing_dir)"
   ]
  },
  {
   "cell_type": "code",
   "execution_count": 21,
   "id": "a770884c-99ef-481e-b0b9-fe9a99ce791b",
   "metadata": {},
   "outputs": [
    {
     "name": "stdout",
     "output_type": "stream",
     "text": [
      "Found 20075 images belonging to 2 classes.\n",
      "20075/20075 [==============================] - 198s 10ms/step - loss: 0.6529 - acc: 0.6332\n"
     ]
    }
   ],
   "source": [
    "report(validation_dir)"
   ]
  },
  {
   "cell_type": "code",
   "execution_count": null,
   "id": "b8f7bc7c-ecfb-4e60-bf72-b5f2e4144b1c",
   "metadata": {},
   "outputs": [],
   "source": []
  }
 ],
 "metadata": {
  "kernelspec": {
   "display_name": "Python 3 (ipykernel)",
   "language": "python",
   "name": "python3"
  },
  "language_info": {
   "codemirror_mode": {
    "name": "ipython",
    "version": 3
   },
   "file_extension": ".py",
   "mimetype": "text/x-python",
   "name": "python",
   "nbconvert_exporter": "python",
   "pygments_lexer": "ipython3",
   "version": "3.11.6"
  }
 },
 "nbformat": 4,
 "nbformat_minor": 5
}
