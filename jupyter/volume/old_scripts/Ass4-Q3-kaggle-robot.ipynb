{
 "cells": [
  {
   "cell_type": "code",
   "execution_count": null,
   "id": "a876ebba-2f61-4596-80fc-c7bfc59c7503",
   "metadata": {},
   "outputs": [],
   "source": [
    "train_path = \"/mnt/data_file/kaggle/train_data/train\"\n",
    "processed_path = \"/mnt/data_file/kaggle/train_data/processed_data\""
   ]
  },
  {
   "cell_type": "code",
   "execution_count": 9,
   "id": "b46fb4bf-14a7-4b6b-be9d-eedb52effb24",
   "metadata": {},
   "outputs": [],
   "source": [
    "import os\n",
    "import shutil\n",
    "from random import choices"
   ]
  },
  {
   "cell_type": "code",
   "execution_count": 11,
   "id": "894e84b1-08fb-460e-85fe-599a5bc4a5f6",
   "metadata": {},
   "outputs": [],
   "source": [
    "options = [True, False]\n",
    "weights = [0.8, 0.2]\n",
    "train_dog_path = os.path.join(processed_path, \"training\", \"dog\")\n",
    "train_cat_path = os.path.join(processed_path, \"training\", \"cat\")\n",
    "test_dog_path = os.path.join(processed_path, \"testing\", \"dog\")\n",
    "test_cat_path = os.path.join(processed_path, \"testing\", \"cat\")\n",
    "for image in os.listdir(train_path):\n",
    "    train = choices(options, weights)[0]\n",
    "    if \"dog\" in image:\n",
    "        if train:\n",
    "            shutil.copy(os.path.join(train_path, image), os.path.join(train_dog_path, image))\n",
    "        else:\n",
    "            shutil.copy(os.path.join(train_path, image), os.path.join(test_dog_path, image))\n",
    "    else:\n",
    "        if train:\n",
    "            shutil.copy(os.path.join(train_path, image), os.path.join(train_cat_path, image))\n",
    "        else:\n",
    "            shutil.copy(os.path.join(train_path, image), os.path.join(test_cat_path, image))\n",
    "        "
   ]
  },
  {
   "cell_type": "markdown",
   "id": "8a1433d0-f4f6-41f9-8f66-6e810f32abc4",
   "metadata": {},
   "source": [
    "# Building model"
   ]
  },
  {
   "cell_type": "code",
   "execution_count": 36,
   "id": "ce7ee430-a159-4629-b663-d05cc2ca18ec",
   "metadata": {},
   "outputs": [],
   "source": [
    "def train():\n",
    "    import json\n",
    "    import tempfile\n",
    "    from tensorflow.keras import layers\n",
    "    from tensorflow.keras import models\n",
    "    from tensorflow.keras import optimizers\n",
    "    from tensorflow.keras.callbacks import ModelCheckpoint\n",
    "    import tensorflow as tf\n",
    "    strategy = tf.distribute.experimental.MultiWorkerMirroredStrategy()\n",
    "    with strategy.scope():\n",
    "\n",
    "    \n",
    "        checkpoint_path = \"/mnt/data_file/ass4.model/\"\n",
    "        random_path = tempfile.TemporaryDirectory()\n",
    "    \n",
    "        chief_callback = ModelCheckpoint(checkpoint_path, \n",
    "                                         monitor='acc', \n",
    "                                         save_best_only=True,\n",
    "                                         mode='max')\n",
    "        dummy_callback = ModelCheckpoint(random_path.name, monitor='acc', save_best_only=True)\n",
    "    \n",
    "    \n",
    "        processed_path = \"/mnt/data_file/train_data/processed_data\"\n",
    "        \n",
    "        model = models.Sequential()\n",
    "        model.add(layers.Conv2D(32, (3, 3), activation='relu',\n",
    "                                input_shape=(150, 150, 3)))\n",
    "        model.add(layers.MaxPooling2D((2, 2)))\n",
    "        model.add(layers.Conv2D(64, (3, 3), activation='relu'))\n",
    "        model.add(layers.MaxPooling2D((2, 2)))\n",
    "        model.add(layers.Conv2D(128, (3, 3), activation='relu'))\n",
    "        model.add(layers.MaxPooling2D((2, 2)))\n",
    "        model.add(layers.Conv2D(128, (3, 3), activation='relu'))\n",
    "        model.add(layers.MaxPooling2D((2, 2)))\n",
    "        model.add(layers.Flatten())\n",
    "        model.add(layers.Dense(512, activation='relu'))\n",
    "        model.add(layers.Dense(1, activation='sigmoid'))\n",
    "        \n",
    "        model.compile(loss='binary_crossentropy',\n",
    "                      optimizer=optimizers.RMSprop(learning_rate=1e-4),\n",
    "                      metrics=['acc'])\n",
    "    \n",
    "        from tensorflow.keras.preprocessing.image import ImageDataGenerator\n",
    "    \n",
    "        train_dir = os.path.join(processed_path, \"training\")\n",
    "        validation_dir = os.path.join(processed_path, \"testing\")\n",
    "        \n",
    "        # All images will be rescaled by 1./255\n",
    "        train_datagen = ImageDataGenerator(rescale=1./255)\n",
    "        test_datagen = ImageDataGenerator(rescale=1./255)\n",
    "        train_generator = train_datagen.flow_from_directory(\n",
    "                # This is the target directory\n",
    "                train_dir,\n",
    "                # All images will be resized to 150x150\n",
    "                target_size=(150, 150),\n",
    "                batch_size=64,\n",
    "                # Since we use binary_crossentropy loss, we need binary labels\n",
    "                class_mode='binary')\n",
    "        validation_generator = test_datagen.flow_from_directory(\n",
    "                validation_dir,\n",
    "                target_size=(150, 150),\n",
    "                batch_size=64,\n",
    "                class_mode='binary')\n",
    "        if 'TF_CONFIG' in os.environ:    \n",
    "            tf_config = json.loads(os.environ['TF_CONFIG'])    \n",
    "            node_index = tf_config['task']['index']    \n",
    "            is_chief = node_index == 0    \n",
    "            print(f\"Node Index: {node_index}, Is Chief: {is_chief}\")\n",
    "        callback = [chief_callback if is_chief else dummy_callback]\n",
    "\n",
    "\n",
    "        model.fit(\n",
    "          train_generator,\n",
    "        #cuz there are 2000 sapmples=100*20(batch-size(20images))\n",
    "          #steps_per_epoch=100,\n",
    "          epochs=5,\n",
    "          validation_data=validation_generator,\n",
    "          callbacks=callback)"
   ]
  },
  {
   "cell_type": "code",
   "execution_count": 37,
   "id": "d7fd3b4b-fe51-4018-97d2-ad28887d54d7",
   "metadata": {},
   "outputs": [
    {
     "name": "stderr",
     "output_type": "stream",
     "text": [
      "INFO:MirroredStrategyRunner:Doing CPU training...\n",
      "INFO:MirroredStrategyRunner:Will run with 2 Spark tasks.\n",
      "INFO:MirroredStrategyRunner:Distributed training in progress...\n",
      "INFO:MirroredStrategyRunner:View Spark executor stderr logs to inspect training...\n",
      "Exception in thread \"serve RDD 9\" java.net.SocketTimeoutException: Accept timed out\n",
      "\tat java.net.PlainSocketImpl.socketAccept(Native Method)\n",
      "\tat java.net.AbstractPlainSocketImpl.accept(AbstractPlainSocketImpl.java:409)\n",
      "\tat java.net.ServerSocket.implAccept(ServerSocket.java:560)\n",
      "\tat java.net.ServerSocket.accept(ServerSocket.java:528)\n",
      "\tat org.apache.spark.security.SocketAuthServer$$anon$1.run(SocketAuthServer.scala:65)\n",
      "INFO:MirroredStrategyRunner:Training with 2 slots is complete!                  \n",
      "[Stage 3:>                                                          (0 + 2) / 2]\r"
     ]
    }
   ],
   "source": [
    "from pyspark.sql import SparkSession\n",
    "\n",
    "spark = SparkSession.builder \\\n",
    "                    .master(\"spark://spark:7077\") \\\n",
    "                    .appName(\"Ass4-Q3\") \\\n",
    "                    .config(\"spark.executor.memory\", \"8g\") \\\n",
    "                    .getOrCreate()\n",
    "\n",
    "from spark_tensorflow_distributor import MirroredStrategyRunner\n",
    " \n",
    "BATCH_SIZE_PER_REPLICA = 64\n",
    "os.environ[\"CUDA_VISIBLE_DEVICES\"] = \"1\"\n",
    "runner = MirroredStrategyRunner(num_slots=2, local_mode=False, use_gpu=False, use_custom_strategy=True)\n",
    "runner.run(train)"
   ]
  },
  {
   "cell_type": "code",
   "execution_count": 39,
   "id": "307897bc-f57c-4098-b701-f02cbc9ca24f",
   "metadata": {},
   "outputs": [
    {
     "name": "stderr",
     "output_type": "stream",
     "text": [
      "[Stage 3:>                                                          (0 + 2) / 2]\r"
     ]
    }
   ],
   "source": [
    "import tensorflow as tf\n",
    "checkpoint_path = \"/mnt/data_file/ass4.model/kaggle/\"\n",
    "model = tf.keras.models.load_model(checkpoint_path)"
   ]
  },
  {
   "cell_type": "code",
   "execution_count": 72,
   "id": "f9377914-a095-43f1-b104-e4387abec43c",
   "metadata": {},
   "outputs": [],
   "source": [
    "training_dir = \"/mnt/data_file/kaggle/train_data/processed_data/training\"\n",
    "testing_dir = \"/mnt/data_file/kaggle/train_data/processed_data/testing\"\n",
    "validation_dir = \"/mnt/data_file/robot/Q3_images/processed_data/training\""
   ]
  },
  {
   "cell_type": "code",
   "execution_count": 76,
   "id": "1e6066ec-a317-4475-8072-a89f2f0f82f7",
   "metadata": {},
   "outputs": [],
   "source": [
    "from tensorflow.keras.preprocessing.image import ImageDataGenerator\n",
    "def report(folder):\n",
    "    image_generator = ImageDataGenerator(rescale=1./255).flow_from_directory(\n",
    "                folder,\n",
    "                target_size=(150, 150),\n",
    "                shuffle=False,\n",
    "                batch_size=1,\n",
    "                class_mode='binary')\n",
    "    model.evaluate(image_generator)"
   ]
  },
  {
   "cell_type": "code",
   "execution_count": 77,
   "id": "c35aa2ec-bc6d-40ab-94af-20634a7ea8a2",
   "metadata": {},
   "outputs": [
    {
     "name": "stdout",
     "output_type": "stream",
     "text": [
      "Found 20075 images belonging to 2 classes.\n",
      "20075/20075 [==============================] - 208s 10ms/step - loss: 0.4242 - acc: 0.8060\n"
     ]
    }
   ],
   "source": [
    "report(training_dir)"
   ]
  },
  {
   "cell_type": "code",
   "execution_count": 78,
   "id": "00a1327d-bf52-4c35-ad9d-6621dddb6b41",
   "metadata": {},
   "outputs": [
    {
     "name": "stdout",
     "output_type": "stream",
     "text": [
      "Found 4925 images belonging to 2 classes.\n",
      "4925/4925 [==============================] - 70s 14ms/step - loss: 0.4459 - acc: 0.7927\n"
     ]
    }
   ],
   "source": [
    "report(testing_dir)"
   ]
  },
  {
   "cell_type": "code",
   "execution_count": 79,
   "id": "4a227b66-dc48-443a-8975-1766473996cb",
   "metadata": {},
   "outputs": [
    {
     "name": "stdout",
     "output_type": "stream",
     "text": [
      "Found 5887 images belonging to 2 classes.\n",
      "5887/5887 [==============================] - 73s 12ms/step - loss: 0.5397 - acc: 0.7437\n"
     ]
    }
   ],
   "source": [
    "report(validation_dir)"
   ]
  },
  {
   "cell_type": "code",
   "execution_count": 81,
   "id": "4f162547-f208-4564-baac-e87cd9b013a1",
   "metadata": {},
   "outputs": [
    {
     "name": "stdout",
     "output_type": "stream",
     "text": [
      "Model: \"sequential\"\n",
      "_________________________________________________________________\n",
      " Layer (type)                Output Shape              Param #   \n",
      "=================================================================\n",
      " conv2d (Conv2D)             (None, 148, 148, 32)      896       \n",
      "                                                                 \n",
      " max_pooling2d (MaxPooling2  (None, 74, 74, 32)        0         \n",
      " D)                                                              \n",
      "                                                                 \n",
      " conv2d_1 (Conv2D)           (None, 72, 72, 64)        18496     \n",
      "                                                                 \n",
      " max_pooling2d_1 (MaxPoolin  (None, 36, 36, 64)        0         \n",
      " g2D)                                                            \n",
      "                                                                 \n",
      " conv2d_2 (Conv2D)           (None, 34, 34, 128)       73856     \n",
      "                                                                 \n",
      " max_pooling2d_2 (MaxPoolin  (None, 17, 17, 128)       0         \n",
      " g2D)                                                            \n",
      "                                                                 \n",
      " conv2d_3 (Conv2D)           (None, 15, 15, 128)       147584    \n",
      "                                                                 \n",
      " max_pooling2d_3 (MaxPoolin  (None, 7, 7, 128)         0         \n",
      " g2D)                                                            \n",
      "                                                                 \n",
      " flatten (Flatten)           (None, 6272)              0         \n",
      "                                                                 \n",
      " dense (Dense)               (None, 512)               3211776   \n",
      "                                                                 \n",
      " dense_1 (Dense)             (None, 1)                 513       \n",
      "                                                                 \n",
      "=================================================================\n",
      "Total params: 3453121 (13.17 MB)\n",
      "Trainable params: 3453121 (13.17 MB)\n",
      "Non-trainable params: 0 (0.00 Byte)\n",
      "_________________________________________________________________\n"
     ]
    }
   ],
   "source": [
    "model.summary()"
   ]
  }
 ],
 "metadata": {
  "kernelspec": {
   "display_name": "Python 3 (ipykernel)",
   "language": "python",
   "name": "python3"
  },
  "language_info": {
   "codemirror_mode": {
    "name": "ipython",
    "version": 3
   },
   "file_extension": ".py",
   "mimetype": "text/x-python",
   "name": "python",
   "nbconvert_exporter": "python",
   "pygments_lexer": "ipython3",
   "version": "3.11.6"
  }
 },
 "nbformat": 4,
 "nbformat_minor": 5
}
