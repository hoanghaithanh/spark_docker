{
 "cells": [
  {
   "cell_type": "code",
   "execution_count": 2,
   "id": "e883d063",
   "metadata": {},
   "outputs": [],
   "source": [
    "import pandas as pd"
   ]
  },
  {
   "cell_type": "code",
   "execution_count": 1,
   "id": "709cf5d5",
   "metadata": {},
   "outputs": [],
   "source": [
    "import pandas as pd \n",
    "from sqlalchemy import create_engine"
   ]
  },
  {
   "cell_type": "code",
   "execution_count": 2,
   "id": "4024a7a2",
   "metadata": {},
   "outputs": [],
   "source": [
    "reddit_data_file = \"reddit_cat.json\"\n",
    "#amazon_thunderbolt_file = \"./assignment2_scrapy/amazon_thunderbolt.json\""
   ]
  },
  {
   "cell_type": "code",
   "execution_count": 3,
   "id": "53668d97",
   "metadata": {},
   "outputs": [],
   "source": [
    "\n",
    "reddit_df = pd.read_json(reddit_data_file)"
   ]
  },
  {
   "cell_type": "code",
   "execution_count": 4,
   "id": "f0999c36",
   "metadata": {},
   "outputs": [
    {
     "data": {
      "text/plain": [
       "post_id                      object\n",
       "title                        object\n",
       "author                       object\n",
       "created_time    datetime64[ns, UTC]\n",
       "comment_no                    int64\n",
       "score                         int64\n",
       "subreddit                    object\n",
       "img_url                      object\n",
       "text                        float64\n",
       "dtype: object"
      ]
     },
     "execution_count": 4,
     "metadata": {},
     "output_type": "execute_result"
    }
   ],
   "source": [
    "reddit_df.dtypes"
   ]
  },
  {
   "cell_type": "markdown",
   "id": "b95cc477",
   "metadata": {},
   "source": [
    "# MySQL"
   ]
  },
  {
   "cell_type": "code",
   "execution_count": 11,
   "id": "1c993d3c",
   "metadata": {},
   "outputs": [],
   "source": [
    "hostname= \"localhost\"\n",
    "database= \"assignment2_db\"\n",
    "username= \"amod5410\"\n",
    "password= \"amod5410\"\n",
    "\n",
    "engine = create_engine(\"mysql+pymysql://{user}:{pw}@{host}/{db}\".format(host=hostname, db=database, user=username, pw=password))"
   ]
  },
  {
   "cell_type": "code",
   "execution_count": 12,
   "id": "41d5692a",
   "metadata": {},
   "outputs": [
    {
     "data": {
      "text/plain": [
       "103"
      ]
     },
     "execution_count": 12,
     "metadata": {},
     "output_type": "execute_result"
    }
   ],
   "source": [
    "reddit_df.to_sql(\"reddit_data\", engine, if_exists='replace', index=False)"
   ]
  }
 ],
 "metadata": {
  "kernelspec": {
   "display_name": "Python 3 (ipykernel)",
   "language": "python",
   "name": "python3"
  },
  "language_info": {
   "codemirror_mode": {
    "name": "ipython",
    "version": 3
   },
   "file_extension": ".py",
   "mimetype": "text/x-python",
   "name": "python",
   "nbconvert_exporter": "python",
   "pygments_lexer": "ipython3",
   "version": "3.11.6"
  }
 },
 "nbformat": 4,
 "nbformat_minor": 5
}
