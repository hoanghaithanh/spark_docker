{
 "cells": [
  {
   "cell_type": "code",
   "execution_count": 1,
   "id": "a661aa76-a0b4-423a-bc2e-a16f0d08bb53",
   "metadata": {},
   "outputs": [],
   "source": [
    "import pandas as pd\n",
    "import os\n",
    "import warnings\n",
    "warnings.filterwarnings('ignore')\n",
    "\n",
    "from sklearn.svm import LinearSVC as SKLinearSVC\n",
    "from sklearn.metrics import accuracy_score, f1_score\n",
    "from sklearn.metrics import confusion_matrix\n",
    "\n",
    "from pyspark.sql import SparkSession\n",
    "from pyspark.ml.feature import VectorAssembler\n",
    "from pyspark.ml.classification import LinearSVC as SparkLinearSVC\n",
    "from pyspark.ml.evaluation import MulticlassClassificationEvaluator\n",
    "\n",
    "random_state = 772659"
   ]
  },
  {
   "cell_type": "markdown",
   "id": "f4029aee-af48-4b83-b01d-239663837df4",
   "metadata": {},
   "source": [
    "# Data Desciption"
   ]
  },
  {
   "cell_type": "code",
   "execution_count": 2,
   "id": "df32ca4a-c1e0-4b26-8d3e-9edac9e941dd",
   "metadata": {},
   "outputs": [],
   "source": [
    "raw_df_path = \"adult.tsv\"\n",
    "raw_df = pd.read_csv(raw_df_path, sep=\"\\t\")"
   ]
  },
  {
   "cell_type": "code",
   "execution_count": 3,
   "id": "f07df0a2-961d-43c8-8074-a8585f9e6cde",
   "metadata": {
    "scrolled": true
   },
   "outputs": [
    {
     "data": {
      "text/html": [
       "<div>\n",
       "<style scoped>\n",
       "    .dataframe tbody tr th:only-of-type {\n",
       "        vertical-align: middle;\n",
       "    }\n",
       "\n",
       "    .dataframe tbody tr th {\n",
       "        vertical-align: top;\n",
       "    }\n",
       "\n",
       "    .dataframe thead th {\n",
       "        text-align: right;\n",
       "    }\n",
       "</style>\n",
       "<table border=\"1\" class=\"dataframe\">\n",
       "  <thead>\n",
       "    <tr style=\"text-align: right;\">\n",
       "      <th></th>\n",
       "      <th>0</th>\n",
       "      <th>1</th>\n",
       "      <th>2</th>\n",
       "      <th>3</th>\n",
       "      <th>4</th>\n",
       "      <th>5</th>\n",
       "      <th>6</th>\n",
       "      <th>7</th>\n",
       "      <th>8</th>\n",
       "      <th>9</th>\n",
       "    </tr>\n",
       "  </thead>\n",
       "  <tbody>\n",
       "    <tr>\n",
       "      <th>age</th>\n",
       "      <td>39.0</td>\n",
       "      <td>50.0</td>\n",
       "      <td>38.0</td>\n",
       "      <td>53.0</td>\n",
       "      <td>28.0</td>\n",
       "      <td>37.0</td>\n",
       "      <td>49.0</td>\n",
       "      <td>52.0</td>\n",
       "      <td>31.0</td>\n",
       "      <td>42.0</td>\n",
       "    </tr>\n",
       "    <tr>\n",
       "      <th>workclass</th>\n",
       "      <td>7.0</td>\n",
       "      <td>6.0</td>\n",
       "      <td>4.0</td>\n",
       "      <td>4.0</td>\n",
       "      <td>4.0</td>\n",
       "      <td>4.0</td>\n",
       "      <td>4.0</td>\n",
       "      <td>6.0</td>\n",
       "      <td>4.0</td>\n",
       "      <td>4.0</td>\n",
       "    </tr>\n",
       "    <tr>\n",
       "      <th>fnlwgt</th>\n",
       "      <td>77516.0</td>\n",
       "      <td>83311.0</td>\n",
       "      <td>215646.0</td>\n",
       "      <td>234721.0</td>\n",
       "      <td>338409.0</td>\n",
       "      <td>284582.0</td>\n",
       "      <td>160187.0</td>\n",
       "      <td>209642.0</td>\n",
       "      <td>45781.0</td>\n",
       "      <td>159449.0</td>\n",
       "    </tr>\n",
       "    <tr>\n",
       "      <th>education</th>\n",
       "      <td>9.0</td>\n",
       "      <td>9.0</td>\n",
       "      <td>11.0</td>\n",
       "      <td>1.0</td>\n",
       "      <td>9.0</td>\n",
       "      <td>12.0</td>\n",
       "      <td>6.0</td>\n",
       "      <td>11.0</td>\n",
       "      <td>12.0</td>\n",
       "      <td>9.0</td>\n",
       "    </tr>\n",
       "    <tr>\n",
       "      <th>education-num</th>\n",
       "      <td>13.0</td>\n",
       "      <td>13.0</td>\n",
       "      <td>9.0</td>\n",
       "      <td>7.0</td>\n",
       "      <td>13.0</td>\n",
       "      <td>14.0</td>\n",
       "      <td>5.0</td>\n",
       "      <td>9.0</td>\n",
       "      <td>14.0</td>\n",
       "      <td>13.0</td>\n",
       "    </tr>\n",
       "    <tr>\n",
       "      <th>marital-status</th>\n",
       "      <td>4.0</td>\n",
       "      <td>2.0</td>\n",
       "      <td>0.0</td>\n",
       "      <td>2.0</td>\n",
       "      <td>2.0</td>\n",
       "      <td>2.0</td>\n",
       "      <td>3.0</td>\n",
       "      <td>2.0</td>\n",
       "      <td>4.0</td>\n",
       "      <td>2.0</td>\n",
       "    </tr>\n",
       "    <tr>\n",
       "      <th>occupation</th>\n",
       "      <td>1.0</td>\n",
       "      <td>4.0</td>\n",
       "      <td>6.0</td>\n",
       "      <td>6.0</td>\n",
       "      <td>10.0</td>\n",
       "      <td>4.0</td>\n",
       "      <td>8.0</td>\n",
       "      <td>4.0</td>\n",
       "      <td>10.0</td>\n",
       "      <td>4.0</td>\n",
       "    </tr>\n",
       "    <tr>\n",
       "      <th>relationship</th>\n",
       "      <td>1.0</td>\n",
       "      <td>0.0</td>\n",
       "      <td>1.0</td>\n",
       "      <td>0.0</td>\n",
       "      <td>5.0</td>\n",
       "      <td>5.0</td>\n",
       "      <td>1.0</td>\n",
       "      <td>0.0</td>\n",
       "      <td>1.0</td>\n",
       "      <td>0.0</td>\n",
       "    </tr>\n",
       "    <tr>\n",
       "      <th>race</th>\n",
       "      <td>4.0</td>\n",
       "      <td>4.0</td>\n",
       "      <td>4.0</td>\n",
       "      <td>2.0</td>\n",
       "      <td>2.0</td>\n",
       "      <td>4.0</td>\n",
       "      <td>2.0</td>\n",
       "      <td>4.0</td>\n",
       "      <td>4.0</td>\n",
       "      <td>4.0</td>\n",
       "    </tr>\n",
       "    <tr>\n",
       "      <th>sex</th>\n",
       "      <td>1.0</td>\n",
       "      <td>1.0</td>\n",
       "      <td>1.0</td>\n",
       "      <td>1.0</td>\n",
       "      <td>0.0</td>\n",
       "      <td>0.0</td>\n",
       "      <td>0.0</td>\n",
       "      <td>1.0</td>\n",
       "      <td>0.0</td>\n",
       "      <td>1.0</td>\n",
       "    </tr>\n",
       "    <tr>\n",
       "      <th>capital-gain</th>\n",
       "      <td>2174.0</td>\n",
       "      <td>0.0</td>\n",
       "      <td>0.0</td>\n",
       "      <td>0.0</td>\n",
       "      <td>0.0</td>\n",
       "      <td>0.0</td>\n",
       "      <td>0.0</td>\n",
       "      <td>0.0</td>\n",
       "      <td>14084.0</td>\n",
       "      <td>5178.0</td>\n",
       "    </tr>\n",
       "    <tr>\n",
       "      <th>capital-loss</th>\n",
       "      <td>0.0</td>\n",
       "      <td>0.0</td>\n",
       "      <td>0.0</td>\n",
       "      <td>0.0</td>\n",
       "      <td>0.0</td>\n",
       "      <td>0.0</td>\n",
       "      <td>0.0</td>\n",
       "      <td>0.0</td>\n",
       "      <td>0.0</td>\n",
       "      <td>0.0</td>\n",
       "    </tr>\n",
       "    <tr>\n",
       "      <th>hours-per-week</th>\n",
       "      <td>40.0</td>\n",
       "      <td>13.0</td>\n",
       "      <td>40.0</td>\n",
       "      <td>40.0</td>\n",
       "      <td>40.0</td>\n",
       "      <td>40.0</td>\n",
       "      <td>16.0</td>\n",
       "      <td>45.0</td>\n",
       "      <td>50.0</td>\n",
       "      <td>40.0</td>\n",
       "    </tr>\n",
       "    <tr>\n",
       "      <th>native-country</th>\n",
       "      <td>39.0</td>\n",
       "      <td>39.0</td>\n",
       "      <td>39.0</td>\n",
       "      <td>39.0</td>\n",
       "      <td>5.0</td>\n",
       "      <td>39.0</td>\n",
       "      <td>23.0</td>\n",
       "      <td>39.0</td>\n",
       "      <td>39.0</td>\n",
       "      <td>39.0</td>\n",
       "    </tr>\n",
       "    <tr>\n",
       "      <th>target</th>\n",
       "      <td>1.0</td>\n",
       "      <td>1.0</td>\n",
       "      <td>1.0</td>\n",
       "      <td>1.0</td>\n",
       "      <td>1.0</td>\n",
       "      <td>1.0</td>\n",
       "      <td>1.0</td>\n",
       "      <td>0.0</td>\n",
       "      <td>0.0</td>\n",
       "      <td>0.0</td>\n",
       "    </tr>\n",
       "  </tbody>\n",
       "</table>\n",
       "</div>"
      ],
      "text/plain": [
       "                      0        1         2         3         4         5  \\\n",
       "age                39.0     50.0      38.0      53.0      28.0      37.0   \n",
       "workclass           7.0      6.0       4.0       4.0       4.0       4.0   \n",
       "fnlwgt          77516.0  83311.0  215646.0  234721.0  338409.0  284582.0   \n",
       "education           9.0      9.0      11.0       1.0       9.0      12.0   \n",
       "education-num      13.0     13.0       9.0       7.0      13.0      14.0   \n",
       "marital-status      4.0      2.0       0.0       2.0       2.0       2.0   \n",
       "occupation          1.0      4.0       6.0       6.0      10.0       4.0   \n",
       "relationship        1.0      0.0       1.0       0.0       5.0       5.0   \n",
       "race                4.0      4.0       4.0       2.0       2.0       4.0   \n",
       "sex                 1.0      1.0       1.0       1.0       0.0       0.0   \n",
       "capital-gain     2174.0      0.0       0.0       0.0       0.0       0.0   \n",
       "capital-loss        0.0      0.0       0.0       0.0       0.0       0.0   \n",
       "hours-per-week     40.0     13.0      40.0      40.0      40.0      40.0   \n",
       "native-country     39.0     39.0      39.0      39.0       5.0      39.0   \n",
       "target              1.0      1.0       1.0       1.0       1.0       1.0   \n",
       "\n",
       "                       6         7        8         9  \n",
       "age                 49.0      52.0     31.0      42.0  \n",
       "workclass            4.0       6.0      4.0       4.0  \n",
       "fnlwgt          160187.0  209642.0  45781.0  159449.0  \n",
       "education            6.0      11.0     12.0       9.0  \n",
       "education-num        5.0       9.0     14.0      13.0  \n",
       "marital-status       3.0       2.0      4.0       2.0  \n",
       "occupation           8.0       4.0     10.0       4.0  \n",
       "relationship         1.0       0.0      1.0       0.0  \n",
       "race                 2.0       4.0      4.0       4.0  \n",
       "sex                  0.0       1.0      0.0       1.0  \n",
       "capital-gain         0.0       0.0  14084.0    5178.0  \n",
       "capital-loss         0.0       0.0      0.0       0.0  \n",
       "hours-per-week      16.0      45.0     50.0      40.0  \n",
       "native-country      23.0      39.0     39.0      39.0  \n",
       "target               1.0       0.0      0.0       0.0  "
      ]
     },
     "execution_count": 3,
     "metadata": {},
     "output_type": "execute_result"
    }
   ],
   "source": [
    "raw_df.head(10).transpose()"
   ]
  },
  {
   "cell_type": "markdown",
   "id": "7ff9ae79-f3ba-44a8-a8af-418ba407f9df",
   "metadata": {},
   "source": [
    "# Data Preprocessing"
   ]
  },
  {
   "cell_type": "code",
   "execution_count": 4,
   "id": "b0365970-8ff2-4dd0-807c-fc6301447a7a",
   "metadata": {},
   "outputs": [],
   "source": [
    "feature_df = raw_df.drop(\"target\", axis=1)"
   ]
  },
  {
   "cell_type": "code",
   "execution_count": 5,
   "id": "ea9aa45c-feff-4cf6-9999-2a9331175b6a",
   "metadata": {},
   "outputs": [
    {
     "data": {
      "text/plain": [
       "Index(['age', 'workclass', 'fnlwgt', 'education', 'education-num',\n",
       "       'marital-status', 'occupation', 'relationship', 'race', 'sex',\n",
       "       'capital-gain', 'capital-loss', 'hours-per-week', 'native-country'],\n",
       "      dtype='object')"
      ]
     },
     "execution_count": 5,
     "metadata": {},
     "output_type": "execute_result"
    }
   ],
   "source": [
    "feature_df.columns"
   ]
  },
  {
   "cell_type": "code",
   "execution_count": 6,
   "id": "3bb853bb-d892-4c69-8dbc-1cde1862ac26",
   "metadata": {},
   "outputs": [],
   "source": [
    "feature_df = (feature_df - feature_df.mean())/feature_df.std()"
   ]
  },
  {
   "cell_type": "code",
   "execution_count": 7,
   "id": "a1ca0eb7-23d6-48ae-950f-752a9b7711ea",
   "metadata": {},
   "outputs": [
    {
     "data": {
      "text/html": [
       "<div>\n",
       "<style scoped>\n",
       "    .dataframe tbody tr th:only-of-type {\n",
       "        vertical-align: middle;\n",
       "    }\n",
       "\n",
       "    .dataframe tbody tr th {\n",
       "        vertical-align: top;\n",
       "    }\n",
       "\n",
       "    .dataframe thead th {\n",
       "        text-align: right;\n",
       "    }\n",
       "</style>\n",
       "<table border=\"1\" class=\"dataframe\">\n",
       "  <thead>\n",
       "    <tr style=\"text-align: right;\">\n",
       "      <th></th>\n",
       "      <th>age</th>\n",
       "      <th>workclass</th>\n",
       "      <th>fnlwgt</th>\n",
       "      <th>education</th>\n",
       "      <th>education-num</th>\n",
       "      <th>marital-status</th>\n",
       "      <th>occupation</th>\n",
       "      <th>relationship</th>\n",
       "      <th>race</th>\n",
       "      <th>sex</th>\n",
       "      <th>capital-gain</th>\n",
       "      <th>capital-loss</th>\n",
       "      <th>hours-per-week</th>\n",
       "      <th>native-country</th>\n",
       "    </tr>\n",
       "  </thead>\n",
       "  <tbody>\n",
       "    <tr>\n",
       "      <th>0</th>\n",
       "      <td>0.025996</td>\n",
       "      <td>2.137337</td>\n",
       "      <td>-1.061968</td>\n",
       "      <td>-0.332539</td>\n",
       "      <td>1.136500</td>\n",
       "      <td>0.916129</td>\n",
       "      <td>-1.318446</td>\n",
       "      <td>-0.276682</td>\n",
       "      <td>0.392380</td>\n",
       "      <td>0.704213</td>\n",
       "      <td>0.146931</td>\n",
       "      <td>-0.217125</td>\n",
       "      <td>-0.034087</td>\n",
       "      <td>0.289459</td>\n",
       "    </tr>\n",
       "    <tr>\n",
       "      <th>1</th>\n",
       "      <td>0.828300</td>\n",
       "      <td>1.454386</td>\n",
       "      <td>-1.007094</td>\n",
       "      <td>-0.332539</td>\n",
       "      <td>1.136500</td>\n",
       "      <td>-0.410393</td>\n",
       "      <td>-0.609312</td>\n",
       "      <td>-0.900843</td>\n",
       "      <td>0.392380</td>\n",
       "      <td>0.704213</td>\n",
       "      <td>-0.144802</td>\n",
       "      <td>-0.217125</td>\n",
       "      <td>-2.213009</td>\n",
       "      <td>0.289459</td>\n",
       "    </tr>\n",
       "    <tr>\n",
       "      <th>2</th>\n",
       "      <td>-0.046941</td>\n",
       "      <td>0.088484</td>\n",
       "      <td>0.246031</td>\n",
       "      <td>0.183658</td>\n",
       "      <td>-0.419331</td>\n",
       "      <td>-1.736914</td>\n",
       "      <td>-0.136556</td>\n",
       "      <td>-0.276682</td>\n",
       "      <td>0.392380</td>\n",
       "      <td>0.704213</td>\n",
       "      <td>-0.144802</td>\n",
       "      <td>-0.217125</td>\n",
       "      <td>-0.034087</td>\n",
       "      <td>0.289459</td>\n",
       "    </tr>\n",
       "    <tr>\n",
       "      <th>3</th>\n",
       "      <td>1.047110</td>\n",
       "      <td>0.088484</td>\n",
       "      <td>0.426659</td>\n",
       "      <td>-2.397326</td>\n",
       "      <td>-1.197247</td>\n",
       "      <td>-0.410393</td>\n",
       "      <td>-0.136556</td>\n",
       "      <td>-0.900843</td>\n",
       "      <td>-1.971725</td>\n",
       "      <td>0.704213</td>\n",
       "      <td>-0.144802</td>\n",
       "      <td>-0.217125</td>\n",
       "      <td>-0.034087</td>\n",
       "      <td>0.289459</td>\n",
       "    </tr>\n",
       "    <tr>\n",
       "      <th>4</th>\n",
       "      <td>-0.776309</td>\n",
       "      <td>0.088484</td>\n",
       "      <td>1.408515</td>\n",
       "      <td>-0.332539</td>\n",
       "      <td>1.136500</td>\n",
       "      <td>-0.410393</td>\n",
       "      <td>0.808957</td>\n",
       "      <td>2.219961</td>\n",
       "      <td>-1.971725</td>\n",
       "      <td>-1.419995</td>\n",
       "      <td>-0.144802</td>\n",
       "      <td>-0.217125</td>\n",
       "      <td>-0.034087</td>\n",
       "      <td>-4.083338</td>\n",
       "    </tr>\n",
       "  </tbody>\n",
       "</table>\n",
       "</div>"
      ],
      "text/plain": [
       "        age  workclass    fnlwgt  education  education-num  marital-status  \\\n",
       "0  0.025996   2.137337 -1.061968  -0.332539       1.136500        0.916129   \n",
       "1  0.828300   1.454386 -1.007094  -0.332539       1.136500       -0.410393   \n",
       "2 -0.046941   0.088484  0.246031   0.183658      -0.419331       -1.736914   \n",
       "3  1.047110   0.088484  0.426659  -2.397326      -1.197247       -0.410393   \n",
       "4 -0.776309   0.088484  1.408515  -0.332539       1.136500       -0.410393   \n",
       "\n",
       "   occupation  relationship      race       sex  capital-gain  capital-loss  \\\n",
       "0   -1.318446     -0.276682  0.392380  0.704213      0.146931     -0.217125   \n",
       "1   -0.609312     -0.900843  0.392380  0.704213     -0.144802     -0.217125   \n",
       "2   -0.136556     -0.276682  0.392380  0.704213     -0.144802     -0.217125   \n",
       "3   -0.136556     -0.900843 -1.971725  0.704213     -0.144802     -0.217125   \n",
       "4    0.808957      2.219961 -1.971725 -1.419995     -0.144802     -0.217125   \n",
       "\n",
       "   hours-per-week  native-country  \n",
       "0       -0.034087        0.289459  \n",
       "1       -2.213009        0.289459  \n",
       "2       -0.034087        0.289459  \n",
       "3       -0.034087        0.289459  \n",
       "4       -0.034087       -4.083338  "
      ]
     },
     "execution_count": 7,
     "metadata": {},
     "output_type": "execute_result"
    }
   ],
   "source": [
    "feature_df.head()"
   ]
  },
  {
   "cell_type": "code",
   "execution_count": 8,
   "id": "f7182fbb-8185-454f-82e3-c43fbe9d327e",
   "metadata": {},
   "outputs": [],
   "source": [
    "normalized_df = feature_df.copy()\n",
    "normalized_df[\"target\"] = raw_df[\"target\"]"
   ]
  },
  {
   "cell_type": "markdown",
   "id": "7e33ff5d-8e84-475f-83d8-050dc94b2f98",
   "metadata": {},
   "source": [
    "# Train test split"
   ]
  },
  {
   "cell_type": "code",
   "execution_count": 9,
   "id": "28dd1a06-90b2-4875-8cb6-2ef253dddf2b",
   "metadata": {},
   "outputs": [],
   "source": [
    "test_df = normalized_df.sample(frac=0.2, random_state=random_state)\n",
    "train_df = normalized_df.drop(test_df.index)"
   ]
  },
  {
   "cell_type": "markdown",
   "id": "f07ee32c-e0ed-40d0-86d7-27761edc79fe",
   "metadata": {},
   "source": [
    "# Performance measuring"
   ]
  },
  {
   "cell_type": "markdown",
   "id": "0ef77b18-3db1-4145-80f1-e6d9bdebfd17",
   "metadata": {},
   "source": [
    "# Scikit-learn - SVC"
   ]
  },
  {
   "cell_type": "markdown",
   "id": "9bc4a464-1c2e-47ce-b4d7-c2cd9059a14a",
   "metadata": {},
   "source": [
    "## Time measure"
   ]
  },
  {
   "cell_type": "code",
   "execution_count": 10,
   "id": "e739544f-c539-4ec3-8c2d-fb1d8a6fd6f7",
   "metadata": {},
   "outputs": [],
   "source": [
    "\n",
    "sk_train_df = train_df.drop(\"target\", axis=1)\n",
    "sk_test_df = test_df.drop(\"target\", axis=1)"
   ]
  },
  {
   "cell_type": "code",
   "execution_count": 11,
   "id": "f3ae2793-5937-44b2-8c66-baa229abb33e",
   "metadata": {},
   "outputs": [
    {
     "name": "stdout",
     "output_type": "stream",
     "text": [
      "3.79 s ± 115 ms per loop (mean ± std. dev. of 5 runs, 1 loop each)\n"
     ]
    }
   ],
   "source": [
    "%%timeit -r 5 \n",
    "sk_model = SKLinearSVC(max_iter=1000)\n",
    "sk_model.fit(sk_train_df, train_df[\"target\"])"
   ]
  },
  {
   "cell_type": "code",
   "execution_count": 12,
   "id": "c0f0446d-d0f8-4cb2-b21f-8a1d3e8961a5",
   "metadata": {},
   "outputs": [
    {
     "data": {
      "text/html": [
       "<style>#sk-container-id-1 {color: black;}#sk-container-id-1 pre{padding: 0;}#sk-container-id-1 div.sk-toggleable {background-color: white;}#sk-container-id-1 label.sk-toggleable__label {cursor: pointer;display: block;width: 100%;margin-bottom: 0;padding: 0.3em;box-sizing: border-box;text-align: center;}#sk-container-id-1 label.sk-toggleable__label-arrow:before {content: \"▸\";float: left;margin-right: 0.25em;color: #696969;}#sk-container-id-1 label.sk-toggleable__label-arrow:hover:before {color: black;}#sk-container-id-1 div.sk-estimator:hover label.sk-toggleable__label-arrow:before {color: black;}#sk-container-id-1 div.sk-toggleable__content {max-height: 0;max-width: 0;overflow: hidden;text-align: left;background-color: #f0f8ff;}#sk-container-id-1 div.sk-toggleable__content pre {margin: 0.2em;color: black;border-radius: 0.25em;background-color: #f0f8ff;}#sk-container-id-1 input.sk-toggleable__control:checked~div.sk-toggleable__content {max-height: 200px;max-width: 100%;overflow: auto;}#sk-container-id-1 input.sk-toggleable__control:checked~label.sk-toggleable__label-arrow:before {content: \"▾\";}#sk-container-id-1 div.sk-estimator input.sk-toggleable__control:checked~label.sk-toggleable__label {background-color: #d4ebff;}#sk-container-id-1 div.sk-label input.sk-toggleable__control:checked~label.sk-toggleable__label {background-color: #d4ebff;}#sk-container-id-1 input.sk-hidden--visually {border: 0;clip: rect(1px 1px 1px 1px);clip: rect(1px, 1px, 1px, 1px);height: 1px;margin: -1px;overflow: hidden;padding: 0;position: absolute;width: 1px;}#sk-container-id-1 div.sk-estimator {font-family: monospace;background-color: #f0f8ff;border: 1px dotted black;border-radius: 0.25em;box-sizing: border-box;margin-bottom: 0.5em;}#sk-container-id-1 div.sk-estimator:hover {background-color: #d4ebff;}#sk-container-id-1 div.sk-parallel-item::after {content: \"\";width: 100%;border-bottom: 1px solid gray;flex-grow: 1;}#sk-container-id-1 div.sk-label:hover label.sk-toggleable__label {background-color: #d4ebff;}#sk-container-id-1 div.sk-serial::before {content: \"\";position: absolute;border-left: 1px solid gray;box-sizing: border-box;top: 0;bottom: 0;left: 50%;z-index: 0;}#sk-container-id-1 div.sk-serial {display: flex;flex-direction: column;align-items: center;background-color: white;padding-right: 0.2em;padding-left: 0.2em;position: relative;}#sk-container-id-1 div.sk-item {position: relative;z-index: 1;}#sk-container-id-1 div.sk-parallel {display: flex;align-items: stretch;justify-content: center;background-color: white;position: relative;}#sk-container-id-1 div.sk-item::before, #sk-container-id-1 div.sk-parallel-item::before {content: \"\";position: absolute;border-left: 1px solid gray;box-sizing: border-box;top: 0;bottom: 0;left: 50%;z-index: -1;}#sk-container-id-1 div.sk-parallel-item {display: flex;flex-direction: column;z-index: 1;position: relative;background-color: white;}#sk-container-id-1 div.sk-parallel-item:first-child::after {align-self: flex-end;width: 50%;}#sk-container-id-1 div.sk-parallel-item:last-child::after {align-self: flex-start;width: 50%;}#sk-container-id-1 div.sk-parallel-item:only-child::after {width: 0;}#sk-container-id-1 div.sk-dashed-wrapped {border: 1px dashed gray;margin: 0 0.4em 0.5em 0.4em;box-sizing: border-box;padding-bottom: 0.4em;background-color: white;}#sk-container-id-1 div.sk-label label {font-family: monospace;font-weight: bold;display: inline-block;line-height: 1.2em;}#sk-container-id-1 div.sk-label-container {text-align: center;}#sk-container-id-1 div.sk-container {/* jupyter's `normalize.less` sets `[hidden] { display: none; }` but bootstrap.min.css set `[hidden] { display: none !important; }` so we also need the `!important` here to be able to override the default hidden behavior on the sphinx rendered scikit-learn.org. See: https://github.com/scikit-learn/scikit-learn/issues/21755 */display: inline-block !important;position: relative;}#sk-container-id-1 div.sk-text-repr-fallback {display: none;}</style><div id=\"sk-container-id-1\" class=\"sk-top-container\"><div class=\"sk-text-repr-fallback\"><pre>LinearSVC()</pre><b>In a Jupyter environment, please rerun this cell to show the HTML representation or trust the notebook. <br />On GitHub, the HTML representation is unable to render, please try loading this page with nbviewer.org.</b></div><div class=\"sk-container\" hidden><div class=\"sk-item\"><div class=\"sk-estimator sk-toggleable\"><input class=\"sk-toggleable__control sk-hidden--visually\" id=\"sk-estimator-id-1\" type=\"checkbox\" checked><label for=\"sk-estimator-id-1\" class=\"sk-toggleable__label sk-toggleable__label-arrow\">LinearSVC</label><div class=\"sk-toggleable__content\"><pre>LinearSVC()</pre></div></div></div></div></div>"
      ],
      "text/plain": [
       "LinearSVC()"
      ]
     },
     "execution_count": 12,
     "metadata": {},
     "output_type": "execute_result"
    }
   ],
   "source": [
    "sk_model = SKLinearSVC(max_iter=1000)\n",
    "sk_model.fit(sk_train_df, train_df[\"target\"])"
   ]
  },
  {
   "cell_type": "code",
   "execution_count": 13,
   "id": "93f48a41-11ff-4a98-9b8f-83ae89cdc906",
   "metadata": {},
   "outputs": [
    {
     "name": "stdout",
     "output_type": "stream",
     "text": [
      "1.93 ms ± 1.04 ms per loop (mean ± std. dev. of 5 runs, 100 loops each)\n"
     ]
    }
   ],
   "source": [
    "%%timeit -r 5 \n",
    "sk_model.predict(sk_test_df)"
   ]
  },
  {
   "cell_type": "markdown",
   "id": "9746f4ae-7edf-4027-9395-004d5fc985ac",
   "metadata": {},
   "source": [
    "## Prediction evalualtion"
   ]
  },
  {
   "cell_type": "code",
   "execution_count": 14,
   "id": "2c47f579-a882-4129-9240-52ff421efc40",
   "metadata": {},
   "outputs": [],
   "source": [
    "sk_model = SKLinearSVC(max_iter=1000)\n",
    "sk_model.fit(sk_train_df, train_df[\"target\"])\n",
    "sk_prediction = sk_model.predict(sk_test_df)"
   ]
  },
  {
   "cell_type": "code",
   "execution_count": 15,
   "id": "63ca9b32-f897-4bd2-aa87-2723a2a3a80c",
   "metadata": {},
   "outputs": [
    {
     "data": {
      "text/plain": [
       "0.823914823914824"
      ]
     },
     "execution_count": 15,
     "metadata": {},
     "output_type": "execute_result"
    }
   ],
   "source": [
    "accuracy_score(test_df[\"target\"], sk_prediction)"
   ]
  },
  {
   "cell_type": "code",
   "execution_count": 16,
   "id": "dbd37899-9499-4356-8539-0dc2f5124f57",
   "metadata": {},
   "outputs": [
    {
     "data": {
      "text/plain": [
       "0.8917285660329851"
      ]
     },
     "execution_count": 16,
     "metadata": {},
     "output_type": "execute_result"
    }
   ],
   "source": [
    "f1_score(test_df[\"target\"], sk_prediction)"
   ]
  },
  {
   "cell_type": "markdown",
   "id": "84f17e19-5cf1-4cb7-bf23-52a9d5608bac",
   "metadata": {},
   "source": [
    "# Spark - SVC"
   ]
  },
  {
   "cell_type": "code",
   "execution_count": 27,
   "id": "dff8159f-9659-4e12-b368-4d4db64b5a01",
   "metadata": {},
   "outputs": [],
   "source": [
    "\n",
    "#Create PySpark SparkSession\n",
    "spark = SparkSession.builder.master(\"spark://spark:7077\").appName(\"Ass3-Q1\").config(\"spark.executor.memory\", \"6g\").getOrCreate()\n",
    "#Create PySpark DataFrame from Pandas\n"
   ]
  },
  {
   "cell_type": "code",
   "execution_count": 28,
   "id": "b70fc692-5c6c-4334-a2bf-340f5a8aea70",
   "metadata": {},
   "outputs": [],
   "source": [
    "input_cols = train_df.columns.tolist()[:-1]\n",
    "transformer = VectorAssembler(inputCols=input_cols, outputCol=\"features\")\n",
    "\n",
    "def pandas_to_spark(pd_df):\n",
    "    spark_df = spark.createDataFrame(pd_df)\n",
    "    result = transformer.transform(spark_df).select(\"features\", \"target\")\n",
    "    return result"
   ]
  },
  {
   "cell_type": "code",
   "execution_count": 29,
   "id": "d747fe8d-4850-4e9e-b2c4-662947e1c4b6",
   "metadata": {},
   "outputs": [],
   "source": [
    "spark_train_df = pandas_to_spark(train_df)\n",
    "spark_test_df = pandas_to_spark(test_df)"
   ]
  },
  {
   "cell_type": "markdown",
   "id": "2a496b1a-5132-4723-af1e-d141273c4c7e",
   "metadata": {},
   "source": [
    "## Time measure"
   ]
  },
  {
   "cell_type": "code",
   "execution_count": 30,
   "id": "999e63fa-a946-4464-946d-186a9571c0d5",
   "metadata": {
    "scrolled": true
   },
   "outputs": [
    {
     "name": "stderr",
     "output_type": "stream",
     "text": [
      "                                                                                \r"
     ]
    },
    {
     "name": "stdout",
     "output_type": "stream",
     "text": [
      "7.46 s ± 242 ms per loop (mean ± std. dev. of 5 runs, 1 loop each)\n"
     ]
    }
   ],
   "source": [
    "%%timeit -r 5 \n",
    "lsvc = SparkLinearSVC(labelCol=\"target\", maxIter=1000)\n",
    "lsvc.fit(spark_train_df)"
   ]
  },
  {
   "cell_type": "code",
   "execution_count": 21,
   "id": "dc78fc62-cbb6-4d0e-87fd-368c8f0248b3",
   "metadata": {
    "scrolled": true
   },
   "outputs": [],
   "source": [
    "lsvc = SparkLinearSVC(labelCol=\"target\", maxIter=1000)\n",
    "lsvc = lsvc.fit(spark_train_df)\n"
   ]
  },
  {
   "cell_type": "code",
   "execution_count": 22,
   "id": "e5679cfc-70f7-4681-969f-49e5bc5df651",
   "metadata": {},
   "outputs": [
    {
     "name": "stdout",
     "output_type": "stream",
     "text": [
      "21.6 ms ± 902 µs per loop (mean ± std. dev. of 5 runs, 10 loops each)\n"
     ]
    }
   ],
   "source": [
    "%%timeit -r 5 \n",
    "lsvc.transform(spark_test_df)"
   ]
  },
  {
   "cell_type": "markdown",
   "id": "4d1601bc-09d2-4106-be78-267b2c792ed6",
   "metadata": {},
   "source": [
    "## Prediction evaluation"
   ]
  },
  {
   "cell_type": "code",
   "execution_count": 23,
   "id": "6b4aa74a-ed44-4bd6-b4a4-3db9ff853801",
   "metadata": {},
   "outputs": [
    {
     "name": "stderr",
     "output_type": "stream",
     "text": [
      "23/11/15 22:37:11 WARN SparkStringUtils: Truncated the string representation of a plan since it was too large. This behavior can be adjusted by setting 'spark.sql.debug.maxToStringFields'.\n"
     ]
    },
    {
     "name": "stdout",
     "output_type": "stream",
     "text": [
      "Prediction Accuracy:  0.8108108108108109\n",
      "F1 score:\n"
     ]
    },
    {
     "data": {
      "text/plain": [
       "0.8864306784660767"
      ]
     },
     "execution_count": 23,
     "metadata": {},
     "output_type": "execute_result"
    }
   ],
   "source": [
    "lsvc = SparkLinearSVC(labelCol=\"target\", maxIter=1000)\n",
    "lsvc = lsvc.fit(spark_train_df)\n",
    "pred = lsvc.transform(spark_test_df)\n",
    "\n",
    "y_pred=pred.select(\"prediction\").collect()\n",
    "y_orig=pred.select(\"target\").collect()\n",
    "\n",
    "acc = accuracy_score(y_orig, y_pred)\n",
    "print(\"Prediction Accuracy: \", acc)\n",
    "\n",
    "print(\"F1 score:\")\n",
    "f1_score(y_pred, y_orig)"
   ]
  },
  {
   "cell_type": "code",
   "execution_count": 31,
   "id": "bc37d6c1-92bf-42fb-a4fa-1e84f4aa05f2",
   "metadata": {},
   "outputs": [],
   "source": [
    "spark.stop()"
   ]
  },
  {
   "cell_type": "code",
   "execution_count": null,
   "id": "97ff5a7b-0d69-478f-9d77-652fb2b45603",
   "metadata": {},
   "outputs": [],
   "source": []
  }
 ],
 "metadata": {
  "kernelspec": {
   "display_name": "Python 3 (ipykernel)",
   "language": "python",
   "name": "python3"
  },
  "language_info": {
   "codemirror_mode": {
    "name": "ipython",
    "version": 3
   },
   "file_extension": ".py",
   "mimetype": "text/x-python",
   "name": "python",
   "nbconvert_exporter": "python",
   "pygments_lexer": "ipython3",
   "version": "3.11.6"
  }
 },
 "nbformat": 4,
 "nbformat_minor": 5
}
