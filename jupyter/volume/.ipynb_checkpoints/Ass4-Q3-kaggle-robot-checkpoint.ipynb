{
 "cells": [
  {
   "cell_type": "code",
   "execution_count": 2,
   "id": "a876ebba-2f61-4596-80fc-c7bfc59c7503",
   "metadata": {},
   "outputs": [],
   "source": [
    "train_path = \"/mnt/data_file/train_data/train\"\n",
    "processed_path = \"/mnt/data_file/train_data/processed_data\""
   ]
  },
  {
   "cell_type": "code",
   "execution_count": 9,
   "id": "b46fb4bf-14a7-4b6b-be9d-eedb52effb24",
   "metadata": {},
   "outputs": [],
   "source": [
    "import os\n",
    "import shutil\n",
    "from random import choices"
   ]
  },
  {
   "cell_type": "code",
   "execution_count": 11,
   "id": "894e84b1-08fb-460e-85fe-599a5bc4a5f6",
   "metadata": {},
   "outputs": [],
   "source": [
    "options = [True, False]\n",
    "weights = [0.8, 0.2]\n",
    "train_dog_path = os.path.join(processed_path, \"training\", \"dog\")\n",
    "train_cat_path = os.path.join(processed_path, \"training\", \"cat\")\n",
    "test_dog_path = os.path.join(processed_path, \"testing\", \"dog\")\n",
    "test_cat_path = os.path.join(processed_path, \"testing\", \"cat\")\n",
    "for image in os.listdir(train_path):\n",
    "    train = choices(options, weights)[0]\n",
    "    if \"dog\" in image:\n",
    "        if train:\n",
    "            shutil.copy(os.path.join(train_path, image), os.path.join(train_dog_path, image))\n",
    "        else:\n",
    "            shutil.copy(os.path.join(train_path, image), os.path.join(test_dog_path, image))\n",
    "    else:\n",
    "        if train:\n",
    "            shutil.copy(os.path.join(train_path, image), os.path.join(train_cat_path, image))\n",
    "        else:\n",
    "            shutil.copy(os.path.join(train_path, image), os.path.join(test_cat_path, image))\n",
    "        "
   ]
  },
  {
   "cell_type": "markdown",
   "id": "8a1433d0-f4f6-41f9-8f66-6e810f32abc4",
   "metadata": {},
   "source": [
    "# Building model"
   ]
  },
  {
   "cell_type": "code",
   "execution_count": 29,
   "id": "ce7ee430-a159-4629-b663-d05cc2ca18ec",
   "metadata": {},
   "outputs": [],
   "source": [
    "def train():\n",
    "    import json\n",
    "    import tempfile\n",
    "    from tensorflow.keras import layers\n",
    "    from tensorflow.keras import models\n",
    "    from tensorflow.keras import optimizers\n",
    "    from tensorflow.keras.callbacks import ModelCheckpoint\n",
    "\n",
    "    \n",
    "    checkpoint_path = \"/mnt/data_file/ass4.model/\"\n",
    "    random_path = tempfile.TemporaryDirectory()\n",
    "\n",
    "    chief_callback = ModelCheckpoint(checkpoint_path, \n",
    "                                     monitor='acc', \n",
    "                                     save_best_only=True,\n",
    "                                     mode='max')\n",
    "    dummy_callback = ModelCheckpoint(random_path.name, monitor='acc', save_best_only=True)\n",
    "\n",
    "\n",
    "    processed_path = \"/mnt/data_file/train_data/processed_data\"\n",
    "    \n",
    "    model = models.Sequential()\n",
    "    model.add(layers.Conv2D(32, (3, 3), activation='relu',\n",
    "                            input_shape=(150, 150, 3)))\n",
    "    model.add(layers.MaxPooling2D((2, 2)))\n",
    "    model.add(layers.Conv2D(64, (3, 3), activation='relu'))\n",
    "    model.add(layers.MaxPooling2D((2, 2)))\n",
    "    model.add(layers.Conv2D(128, (3, 3), activation='relu'))\n",
    "    model.add(layers.MaxPooling2D((2, 2)))\n",
    "    model.add(layers.Conv2D(128, (3, 3), activation='relu'))\n",
    "    model.add(layers.MaxPooling2D((2, 2)))\n",
    "    model.add(layers.Flatten())\n",
    "    model.add(layers.Dense(512, activation='relu'))\n",
    "    model.add(layers.Dense(1, activation='sigmoid'))\n",
    "    \n",
    "    model.compile(loss='binary_crossentropy',\n",
    "                  optimizer=optimizers.RMSprop(learning_rate=1e-4),\n",
    "                  metrics=['acc'])\n",
    "\n",
    "    from tensorflow.keras.preprocessing.image import ImageDataGenerator\n",
    "\n",
    "    train_dir = os.path.join(processed_path, \"training\")\n",
    "    validation_dir = os.path.join(processed_path, \"testing\")\n",
    "    \n",
    "    # All images will be rescaled by 1./255\n",
    "    train_datagen = ImageDataGenerator(rescale=1./255)\n",
    "    test_datagen = ImageDataGenerator(rescale=1./255)\n",
    "    train_generator = train_datagen.flow_from_directory(\n",
    "            # This is the target directory\n",
    "            train_dir,\n",
    "            # All images will be resized to 150x150\n",
    "            target_size=(150, 150),\n",
    "            batch_size=64,\n",
    "            # Since we use binary_crossentropy loss, we need binary labels\n",
    "            class_mode='binary')\n",
    "    validation_generator = test_datagen.flow_from_directory(\n",
    "            validation_dir,\n",
    "            target_size=(150, 150),\n",
    "            batch_size=64,\n",
    "            class_mode='binary')\n",
    "    if 'TF_CONFIG' in os.environ:    \n",
    "        tf_config = json.loads(os.environ['TF_CONFIG'])    \n",
    "        node_index = tf_config['task']['index']    \n",
    "        is_chief = node_index == 0    \n",
    "        print(f\"Node Index: {node_index}, Is Chief: {is_chief}\")\n",
    "    callback = [chief_callback if is_chief else dummy_callback]\n",
    "\n",
    "    strategy = tf.distribute.experimental.MultiWorkerMirroredStrategy()\n",
    "    with strategy.scope():\n",
    "        model.fit(\n",
    "          train_generator,\n",
    "        #cuz there are 2000 sapmples=100*20(batch-size(20images))\n",
    "          #steps_per_epoch=100,\n",
    "          epochs=5,\n",
    "          validation_data=validation_generator,\n",
    "          callbacks=callback)"
   ]
  },
  {
   "cell_type": "code",
   "execution_count": 31,
   "id": "d7fd3b4b-fe51-4018-97d2-ad28887d54d7",
   "metadata": {},
   "outputs": [
    {
     "ename": "ImportError",
     "evalue": "cannot import name 'MultiWorkerMirroredStrategy' from 'spark_tensorflow_distributor' (/opt/conda/lib/python3.11/site-packages/spark_tensorflow_distributor/__init__.py)",
     "output_type": "error",
     "traceback": [
      "\u001b[0;31m---------------------------------------------------------------------------\u001b[0m",
      "\u001b[0;31mImportError\u001b[0m                               Traceback (most recent call last)",
      "Cell \u001b[0;32mIn[31], line 9\u001b[0m\n\u001b[1;32m      1\u001b[0m \u001b[38;5;28;01mfrom\u001b[39;00m \u001b[38;5;21;01mpyspark\u001b[39;00m\u001b[38;5;21;01m.\u001b[39;00m\u001b[38;5;21;01msql\u001b[39;00m \u001b[38;5;28;01mimport\u001b[39;00m SparkSession\n\u001b[1;32m      3\u001b[0m spark \u001b[38;5;241m=\u001b[39m SparkSession\u001b[38;5;241m.\u001b[39mbuilder \\\n\u001b[1;32m      4\u001b[0m                     \u001b[38;5;241m.\u001b[39mmaster(\u001b[38;5;124m\"\u001b[39m\u001b[38;5;124mspark://spark:7077\u001b[39m\u001b[38;5;124m\"\u001b[39m) \\\n\u001b[1;32m      5\u001b[0m                     \u001b[38;5;241m.\u001b[39mappName(\u001b[38;5;124m\"\u001b[39m\u001b[38;5;124mAss4-Q3\u001b[39m\u001b[38;5;124m\"\u001b[39m) \\\n\u001b[1;32m      6\u001b[0m                     \u001b[38;5;241m.\u001b[39mconfig(\u001b[38;5;124m\"\u001b[39m\u001b[38;5;124mspark.executor.memory\u001b[39m\u001b[38;5;124m\"\u001b[39m, \u001b[38;5;124m\"\u001b[39m\u001b[38;5;124m8g\u001b[39m\u001b[38;5;124m\"\u001b[39m) \\\n\u001b[1;32m      7\u001b[0m                     \u001b[38;5;241m.\u001b[39mgetOrCreate()\n\u001b[0;32m----> 9\u001b[0m \u001b[38;5;28;01mfrom\u001b[39;00m \u001b[38;5;21;01mspark_tensorflow_distributor\u001b[39;00m \u001b[38;5;28;01mimport\u001b[39;00m MultiWorkerMirroredStrategy\n\u001b[1;32m     11\u001b[0m BATCH_SIZE_PER_REPLICA \u001b[38;5;241m=\u001b[39m \u001b[38;5;241m64\u001b[39m\n\u001b[1;32m     12\u001b[0m os\u001b[38;5;241m.\u001b[39menviron[\u001b[38;5;124m\"\u001b[39m\u001b[38;5;124mCUDA_VISIBLE_DEVICES\u001b[39m\u001b[38;5;124m\"\u001b[39m] \u001b[38;5;241m=\u001b[39m \u001b[38;5;124m\"\u001b[39m\u001b[38;5;124m1\u001b[39m\u001b[38;5;124m\"\u001b[39m\n",
      "\u001b[0;31mImportError\u001b[0m: cannot import name 'MultiWorkerMirroredStrategy' from 'spark_tensorflow_distributor' (/opt/conda/lib/python3.11/site-packages/spark_tensorflow_distributor/__init__.py)"
     ]
    }
   ],
   "source": [
    "from pyspark.sql import SparkSession\n",
    "\n",
    "spark = SparkSession.builder \\\n",
    "                    .master(\"spark://spark:7077\") \\\n",
    "                    .appName(\"Ass4-Q3\") \\\n",
    "                    .config(\"spark.executor.memory\", \"8g\") \\\n",
    "                    .getOrCreate()\n",
    "\n",
    "from spark_tensorflow_distributor import MirroredStrategyRunner\n",
    " \n",
    "BATCH_SIZE_PER_REPLICA = 64\n",
    "os.environ[\"CUDA_VISIBLE_DEVICES\"] = \"1\"\n",
    "runner = MirroredStrategyRunner(num_slots=2, local_mode=False, use_gpu=False)\n",
    "runner.run(train)"
   ]
  }
 ],
 "metadata": {
  "kernelspec": {
   "display_name": "Python 3 (ipykernel)",
   "language": "python",
   "name": "python3"
  },
  "language_info": {
   "codemirror_mode": {
    "name": "ipython",
    "version": 3
   },
   "file_extension": ".py",
   "mimetype": "text/x-python",
   "name": "python",
   "nbconvert_exporter": "python",
   "pygments_lexer": "ipython3",
   "version": "3.11.6"
  }
 },
 "nbformat": 4,
 "nbformat_minor": 5
}
