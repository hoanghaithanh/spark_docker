{
 "cells": [
  {
   "cell_type": "code",
   "execution_count": 1,
   "id": "771bb674-ad0a-4b4c-a16e-7eed744c06c6",
   "metadata": {},
   "outputs": [],
   "source": [
    "from pyspark.sql import SparkSession"
   ]
  },
  {
   "cell_type": "code",
   "execution_count": 2,
   "id": "aa78fccb-030c-4b86-a2b5-5f5349e53b23",
   "metadata": {},
   "outputs": [],
   "source": [
    "import pandas as pd \n",
    "reddit_data_file = \"reddit_cat.json\"\n",
    "reddit_df = pd.read_json(reddit_data_file)"
   ]
  },
  {
   "cell_type": "code",
   "execution_count": 3,
   "id": "91a74577-8783-475e-a943-ed4be42bc90d",
   "metadata": {},
   "outputs": [],
   "source": [
    "reddit_df = reddit_df.drop(\"text\", axis=1)"
   ]
  },
  {
   "cell_type": "code",
   "execution_count": 4,
   "id": "5154f6c8-4a80-4f1b-bc53-968b626d2ab4",
   "metadata": {},
   "outputs": [
    {
     "data": {
      "text/plain": [
       "post_id                      object\n",
       "title                        object\n",
       "author                       object\n",
       "created_time    datetime64[ns, UTC]\n",
       "comment_no                    int64\n",
       "score                         int64\n",
       "subreddit                    object\n",
       "img_url                      object\n",
       "dtype: object"
      ]
     },
     "execution_count": 4,
     "metadata": {},
     "output_type": "execute_result"
    }
   ],
   "source": [
    "reddit_df.dtypes"
   ]
  },
  {
   "cell_type": "code",
   "execution_count": 5,
   "id": "3febbac7-a09e-4b17-8bb2-18abc3c8a18f",
   "metadata": {},
   "outputs": [],
   "source": [
    "reddit_df.to_csv(\"reddit_data.csv\", index=False)"
   ]
  },
  {
   "cell_type": "code",
   "execution_count": 6,
   "id": "ee0a17af-a6b5-42d3-9129-5c125b6db774",
   "metadata": {},
   "outputs": [
    {
     "name": "stderr",
     "output_type": "stream",
     "text": [
      "Setting default log level to \"WARN\".\n",
      "To adjust logging level use sc.setLogLevel(newLevel). For SparkR, use setLogLevel(newLevel).\n",
      "23/11/16 05:28:26 WARN NativeCodeLoader: Unable to load native-hadoop library for your platform... using builtin-java classes where applicable\n"
     ]
    }
   ],
   "source": [
    "from os.path import abspath\n",
    "from pyspark.sql import Row\n",
    "\n",
    "warehouse_location=\"/user/hive/warehouse\"\n",
    "\n",
    "spark = SparkSession \\\n",
    "    .builder \\\n",
    "    .master(\"spark://spark:7077\") \\\n",
    "    .appName(\"Ass3-Q3\") \\\n",
    "    .config(\"spark.sql.warehouse.dir\", warehouse_location) \\\n",
    "    .getOrCreate()"
   ]
  },
  {
   "cell_type": "code",
   "execution_count": 8,
   "id": "f0d5aeba-ed2c-48e4-81b5-53d1c6b1697e",
   "metadata": {},
   "outputs": [],
   "source": [
    "df = spark.read.format(\"csv\").option(\"header\", \"true\").load(\"reddit_data.csv\")"
   ]
  },
  {
   "cell_type": "code",
   "execution_count": 10,
   "id": "e1121440-bc65-43f9-9668-b68771c4bdba",
   "metadata": {},
   "outputs": [
    {
     "name": "stderr",
     "output_type": "stream",
     "text": [
      "                                                                                \r"
     ]
    }
   ],
   "source": [
    "df.write.mode(\"overwrite\").saveAsTable(\"reddit_data\")"
   ]
  },
  {
   "cell_type": "code",
   "execution_count": 11,
   "id": "54e369cf-aa26-46c5-b0a2-54878a5aa4f2",
   "metadata": {},
   "outputs": [
    {
     "name": "stdout",
     "output_type": "stream",
     "text": [
      "+----------+--------------------+--------------------+--------------------+----------+-----+---------+--------------------+\n",
      "|   post_id|               title|              author|        created_time|comment_no|score|subreddit|             img_url|\n",
      "+----------+--------------------+--------------------+--------------------+----------+-----+---------+--------------------+\n",
      "|t3_17bwtgq|What kind of car ...|            MemeboyQ|2023-10-19 23:24:...|       195|  647|    r/cat|/r/cat/comments/1...|\n",
      "|t3_17bjubd|Did they think I'...|     LovelyCutieLady|2023-10-19 14:00:...|        42|  981|    r/cat|/r/cat/comments/1...|\n",
      "|t3_17bujdc|            My boys!|     frankenweenieee|2023-10-19 21:42:...|         2|   88|    r/cat|/r/cat/comments/1...|\n",
      "|t3_17bk301|Met this cutie at...|Twice_once_jeongyeon|2023-10-19 14:10:...|         4|  303|    r/cat|/r/cat/comments/1...|\n",
      "|t3_17b9uv6|Just found this k...|         paulinap420|2023-10-19 03:45:...|       289| 2074|    r/cat|/r/cat/comments/1...|\n",
      "|t3_17ben01|   She needs a name!|            aezuria_|2023-10-19 08:55:...|       183|  739|    r/cat|/r/cat/comments/1...|\n",
      "|t3_17bt984|What is a good na...|        BombinhamBoy|2023-10-19 20:49:...|        12|   71|    r/cat|/r/cat/comments/1...|\n",
      "|t3_17bjxry|Attempted to take...|            Livia_EL|2023-10-19 14:04:...|         6|  241|    r/cat|/r/cat/comments/1...|\n",
      "|t3_17bykel|My beautiful cat ...|      same_radiation|2023-10-20 00:48:...|         0|   28|    r/cat|/r/cat/comments/1...|\n",
      "|t3_17bm5br|\"\"\"All that touch...|          somehilary|2023-10-19 15:41:...|         7|  134|    r/cat|/r/cat/comments/1...|\n",
      "|t3_17bgukw|Cat not drinking ...| Emotional-Track2793|2023-10-19 11:23:...|        25|  268|    r/cat|/r/cat/comments/1...|\n",
      "|t3_17blqfc|Kitchen naps are ...|             evanslm|2023-10-19 15:23:...|         3|   89|    r/cat|/r/cat/comments/1...|\n",
      "|t3_17bsrxc|Guess who's alway...|    PrettyCutieQueen|2023-10-19 20:29:...|         2|   34|    r/cat|/r/cat/comments/1...|\n",
      "|t3_17bzljq|what breed of cat...|     Optimal-Cry3116|2023-10-20 01:40:...|         1|   12|    r/cat|/r/cat/comments/1...|\n",
      "|t3_17bzs1t|Meet my curious baby|       florescencia_|2023-10-20 01:49:...|         0|   11|    r/cat|/r/cat/comments/1...|\n",
      "|t3_17bq0ft|Ultimate cuddle p...|        OkRaisin3160|2023-10-19 18:30:...|         2|   38|    r/cat|/r/cat/comments/1...|\n",
      "|t3_17bq2dg|Water? I fear not...|        OkRaisin3160|2023-10-19 18:33:...|         4|   34|    r/cat|/r/cat/comments/1...|\n",
      "|t3_17c0g3c|My handosome boy ...|           steffy_04|2023-10-20 02:22:...|         0|    0|    r/cat|/r/cat/comments/1...|\n",
      "|t3_17bwemn|Is my cat Pennywise?|   Small_Trouble9258|2023-10-19 23:05:...|         1|   12|    r/cat|/r/cat/comments/1...|\n",
      "|t3_17bv7zm|              Theia.|     Mother_Step_292|2023-10-19 22:12:...|         1|   13|    r/cat|/r/cat/comments/1...|\n",
      "+----------+--------------------+--------------------+--------------------+----------+-----+---------+--------------------+\n",
      "only showing top 20 rows\n",
      "\n"
     ]
    }
   ],
   "source": [
    "spark.sql(\"select * from reddit_data\").show()"
   ]
  }
 ],
 "metadata": {
  "kernelspec": {
   "display_name": "Python 3 (ipykernel)",
   "language": "python",
   "name": "python3"
  },
  "language_info": {
   "codemirror_mode": {
    "name": "ipython",
    "version": 3
   },
   "file_extension": ".py",
   "mimetype": "text/x-python",
   "name": "python",
   "nbconvert_exporter": "python",
   "pygments_lexer": "ipython3",
   "version": "3.11.6"
  }
 },
 "nbformat": 4,
 "nbformat_minor": 5
}
